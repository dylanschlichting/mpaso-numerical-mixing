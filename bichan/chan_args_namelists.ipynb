{
 "cells": [
  {
   "cell_type": "code",
   "execution_count": 23,
   "id": "bc62b797-5347-4e84-9644-f5391226f3bf",
   "metadata": {},
   "outputs": [],
   "source": [
    "import numpy as np"
   ]
  },
  {
   "cell_type": "code",
   "execution_count": 27,
   "id": "36df2147-407c-4a35-b399-4815196d1d1a",
   "metadata": {},
   "outputs": [],
   "source": [
    "# input unit as string 'km' or 'm'\n",
    "\n",
    "def channel_args(res1,unit):\n",
    "    if unit == 'km':\n",
    "        res = res1 * 1000\n",
    "    else:\n",
    "        res = res1\n",
    "    len_edges = res\n",
    "    domain_length = 100 * 1000 # domain length is 100km, which is 100 * 1000 m\n",
    "    num_xcell = int(np.floor(domain_length / len_edges))\n",
    "    num_ycell = int(np.floor(2 * np.sqrt(3) * num_xcell))\n",
    "    if num_ycell%2==1:\n",
    "        num_ycell = num_ycell+1\n",
    "    case_name = str(res1) + unit + '_channel'\n",
    "    print('python channel_case.py --case-name='+case_name+ ' --num-xcell='+str(num_xcell)+' --num-ycell='+str(num_ycell)+\n",
    "          ' --len-edges='+str(len_edges))"
   ]
  },
  {
   "cell_type": "code",
   "execution_count": 28,
   "id": "b76d2238-edcc-4e1b-a598-b873c9081ca5",
   "metadata": {},
   "outputs": [],
   "source": [
    "def update_namelist(res1,unit):\n",
    "    if unit == 'km':\n",
    "        res = res1 * 1000\n",
    "    else:\n",
    "        res = res1\n",
    "    config_dt = res/1000 # config_dt should be same mins as resolution km\n",
    "    config_dt_dec = config_dt - int(config_dt)\n",
    "    config_dt_secs = 60 * config_dt_dec\n",
    "    config_dt_min = int(config_dt)\n",
    "    \n",
    "    config_btr_dt_dec = config_dt / 10 # should scale linearly with resolution\n",
    "\n",
    "    # convert to minutes\n",
    "    mins = int(config_btr_dt_dec)\n",
    "    \n",
    "    # convert to seconds\n",
    "    dec = config_btr_dt_dec - int(config_btr_dt_dec)\n",
    "    sec = int(60 * dec)\n",
    "    \n",
    "    config_mom_del2 = np.round(33.3 * (res / 30000)**1 * 0.5,decimals=3)# round to non-crazy number...\n",
    "    config_mom_del4 = np.format_float_scientific(3.33E11 * (res / 30000)**3,precision=4) # this should technically be * 0.5, not 0.4\n",
    "    \n",
    "    print('config_dt= 00:', config_dt_min,':',config_dt_secs, '\\n config_mom_del2=',config_mom_del2,\n",
    "         '\\n config_mom_del4=', config_mom_del4, '\\n config_btr_dt=', mins,':',sec)"
   ]
  },
  {
   "cell_type": "code",
   "execution_count": 29,
   "id": "b292a90b-05b0-465b-80b5-2bd1e1ee854b",
   "metadata": {},
   "outputs": [
    {
     "name": "stdout",
     "output_type": "stream",
     "text": [
      "BUILD MESH\n",
      "python channel_case.py --case-name=100m_channel --num-xcell=1000 --num-ycell=3464 --len-edges=100\n",
      "-----------\n",
      " NAMELIST CHANGES\n",
      "config_dt= 00: 0 : 6.0 \n",
      " config_mom_del2= 0.056 \n",
      " config_mom_del4= 4.9333e+03 \n",
      " config_btr_dt= 0 : 0\n"
     ]
    }
   ],
   "source": [
    "resolution = 100\n",
    "units = 'm'\n",
    "\n",
    "print('BUILD MESH')\n",
    "channel_args(resolution,units)\n",
    "print('-----------\\n NAMELIST CHANGES')\n",
    "update_namelist(resolution,units)"
   ]
  },
  {
   "cell_type": "code",
   "execution_count": null,
   "id": "f5bf8f44-1e2d-4e02-98b2-7f929a3faa5c",
   "metadata": {},
   "outputs": [],
   "source": []
  },
  {
   "cell_type": "code",
   "execution_count": null,
   "id": "4be0ca62-21bd-44ea-bebd-7eb53f800837",
   "metadata": {},
   "outputs": [],
   "source": []
  }
 ],
 "metadata": {
  "kernelspec": {
   "display_name": "cuQuantum",
   "language": "python",
   "name": "cuquantum"
  },
  "language_info": {
   "codemirror_mode": {
    "name": "ipython",
    "version": 3
   },
   "file_extension": ".py",
   "mimetype": "text/x-python",
   "name": "python",
   "nbconvert_exporter": "python",
   "pygments_lexer": "ipython3",
   "version": "3.8.13"
  }
 },
 "nbformat": 4,
 "nbformat_minor": 5
}
